{
  "nbformat": 4,
  "nbformat_minor": 0,
  "metadata": {
    "colab": {
      "provenance": [],
      "authorship_tag": "ABX9TyMSqzvu/8QZ0lCZp7MV1NpJ",
      "include_colab_link": true
    },
    "kernelspec": {
      "name": "python3",
      "display_name": "Python 3"
    },
    "language_info": {
      "name": "python"
    }
  },
  "cells": [
    {
      "cell_type": "markdown",
      "metadata": {
        "id": "view-in-github",
        "colab_type": "text"
      },
      "source": [
        "<a href=\"https://colab.research.google.com/github/JuliusMananquil/BSIS2-DV-LAB4-MANANQUIL/blob/main/untitled7.ipynb\" target=\"_parent\"><img src=\"https://colab.research.google.com/assets/colab-badge.svg\" alt=\"Open In Colab\"/></a>"
      ]
    },
    {
      "cell_type": "code",
      "execution_count": null,
      "metadata": {
        "colab": {
          "base_uri": "https://localhost:8080/"
        },
        "id": "O4rLbRfrc-4b",
        "outputId": "bc4cf83a-d9a6-4f18-c840-051a92d6d81c"
      },
      "outputs": [
        {
          "output_type": "stream",
          "name": "stdout",
          "text": [
            "What is the temperature outside? : 30\n",
            "the temperature is good today\n",
            "can go outside!\n"
          ]
        }
      ],
      "source": [
        "temp = int(input(\"What is the temperature outside? : \"))\n",
        "\n",
        "if temp >= 0 and temp <= 30: \n",
        "  print(\"the temperature is good today\") \n",
        "  print(\"can go outside!\") \n",
        "elif temp < 0 or temp > 30:\n",
        "  print(\"the temperature is bad today!\")\n",
        "  print(\"you must stay inside!\")\n",
        "\n",
        "#evaluates if temperature is less than 0 or greater than 30 \n",
        "#try to enter values less than 0 or greater than 30\n",
        "#it will print the desired output having a bad temperature"
      ]
    }
  ]
}